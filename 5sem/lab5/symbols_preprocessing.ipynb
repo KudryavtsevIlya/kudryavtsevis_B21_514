{
 "cells": [
  {
   "cell_type": "code",
   "execution_count": 1,
   "metadata": {},
   "outputs": [],
   "source": [
    "import os\n",
    "import numpy as np\n",
    "from PIL import Image\n",
    "from IPython.display import display\n",
    "\n",
    "from pathlib import Path"
   ]
  },
  {
   "cell_type": "code",
   "execution_count": 2,
   "metadata": {},
   "outputs": [],
   "source": [
    "alphabet = 'abcdefghijklmnopqrstuvwxyz'"
   ]
  },
  {
   "cell_type": "code",
   "execution_count": 3,
   "metadata": {},
   "outputs": [
    {
     "data": {
      "text/plain": [
       "26"
      ]
     },
     "execution_count": 3,
     "metadata": {},
     "output_type": "execute_result"
    }
   ],
   "source": [
    "len(alphabet)"
   ]
  },
  {
   "cell_type": "code",
   "execution_count": 4,
   "metadata": {},
   "outputs": [],
   "source": [
    "def open_image(image_name=None, images_dir=None):\n",
    "    if images_dir:\n",
    "        image_list = []\n",
    "        for path in images_dir.iterdir():\n",
    "            image = Image.open(path)\n",
    "            image_list.append(image)\n",
    "        return image_list\n",
    "\n",
    "    image_folder = Path('input/'+image_name)\n",
    "    try:\n",
    "        image = Image.open(image_folder)\n",
    "    except FileNotFoundError:\n",
    "        print(f'Image file not found: {image_folder}')\n",
    "    \n",
    "    return image\n",
    "\n",
    "pth = Path('input/')"
   ]
  },
  {
   "cell_type": "code",
   "execution_count": 5,
   "metadata": {},
   "outputs": [],
   "source": [
    "def display_image(img):\n",
    "    display(Image.fromarray(img))"
   ]
  },
  {
   "cell_type": "code",
   "execution_count": 6,
   "metadata": {},
   "outputs": [],
   "source": [
    "def save_image(path: str, img: np.array):\n",
    "    Image.fromarray(img).save(path)"
   ]
  },
  {
   "cell_type": "code",
   "execution_count": 7,
   "metadata": {},
   "outputs": [],
   "source": [
    "def convert_to_grayscale(img: np.array):\n",
    "    grayscaled_img = np.mean(img, axis=2)\n",
    "    return grayscaled_img[:, :]"
   ]
  },
  {
   "cell_type": "code",
   "execution_count": 8,
   "metadata": {},
   "outputs": [],
   "source": [
    "def crop_background(img):\n",
    "    img = img[:, :, :3]\n",
    "    img = convert_to_grayscale(img).astype(np.uint8)\n",
    "    img = img[~np.all(img > 128, axis=1), :]\n",
    "    img = img[:, ~np.all(img > 128, axis=0)]\n",
    "    return img"
   ]
  },
  {
   "cell_type": "code",
   "execution_count": 9,
   "metadata": {},
   "outputs": [],
   "source": [
    "for letter in alphabet:\n",
    "    save_image('input/'+letter+'_preprocessed.png', crop_background(np.array(open_image(letter+'.png'))))"
   ]
  },
  {
   "cell_type": "code",
   "execution_count": null,
   "metadata": {},
   "outputs": [],
   "source": []
  }
 ],
 "metadata": {
  "kernelspec": {
   "display_name": "oavi_venv",
   "language": "python",
   "name": "python3"
  },
  "language_info": {
   "codemirror_mode": {
    "name": "ipython",
    "version": 3
   },
   "file_extension": ".py",
   "mimetype": "text/x-python",
   "name": "python",
   "nbconvert_exporter": "python",
   "pygments_lexer": "ipython3",
   "version": "3.9.6"
  }
 },
 "nbformat": 4,
 "nbformat_minor": 2
}
