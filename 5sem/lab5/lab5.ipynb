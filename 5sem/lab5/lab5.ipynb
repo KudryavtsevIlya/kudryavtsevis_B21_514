{
 "cells": [
  {
   "cell_type": "markdown",
   "metadata": {},
   "source": [
    "# Image Processing Lab №5\n",
    "Character Feature Extraction"
   ]
  },
  {
   "cell_type": "code",
   "execution_count": 4,
   "metadata": {},
   "outputs": [],
   "source": [
    "import os\n",
    "import numpy as np\n",
    "import pandas as pd\n",
    "from PIL import Image\n",
    "from IPython.display import display\n",
    "\n",
    "import matplotlib.pyplot as plt\n",
    "\n",
    "from pathlib import Path"
   ]
  },
  {
   "cell_type": "code",
   "execution_count": 5,
   "metadata": {},
   "outputs": [],
   "source": [
    "alphabet = 'abcdefghijklmnopqrstuvwxyz'"
   ]
  },
  {
   "cell_type": "code",
   "execution_count": 6,
   "metadata": {},
   "outputs": [],
   "source": [
    "def open_image(image_name=None, images_dir=None):\n",
    "    if images_dir:\n",
    "        image_list = []\n",
    "        for path in images_dir.iterdir():\n",
    "            image = Image.open(path)\n",
    "            image_list.append(image)\n",
    "        return image_list\n",
    "\n",
    "    image_folder = Path('input/'+image_name)\n",
    "    try:\n",
    "        image = Image.open(image_folder)\n",
    "    except FileNotFoundError:\n",
    "        print(f'Image file not found: {image_folder}')\n",
    "    \n",
    "    return image\n",
    "\n",
    "pth = Path('input/')"
   ]
  },
  {
   "cell_type": "code",
   "execution_count": 7,
   "metadata": {},
   "outputs": [],
   "source": [
    "def display_image(img):\n",
    "    display(Image.fromarray(img.astype(np.uint8)))"
   ]
  },
  {
   "cell_type": "code",
   "execution_count": 8,
   "metadata": {},
   "outputs": [],
   "source": [
    "def save_image(path: str, img: np.array):\n",
    "    Image.fromarray(img).save(path)"
   ]
  },
  {
   "cell_type": "code",
   "execution_count": 9,
   "metadata": {},
   "outputs": [],
   "source": [
    "def calculate_weight(img):\n",
    "    return np.where(img == 0, True, False).sum()"
   ]
  },
  {
   "cell_type": "code",
   "execution_count": 10,
   "metadata": {},
   "outputs": [],
   "source": [
    "def calculate_center_of_gravity(img_inp):\n",
    "    img = np.where(img_inp == 0, 1, 0)\n",
    "    x, y = 0, 0\n",
    "    for i in range(img_inp.shape[0]):\n",
    "        for j in range(img_inp.shape[1]):\n",
    "            x += i * img[i, j]\n",
    "            y += j * img[i, j]\n",
    "\n",
    "    w = calculate_weight(img_inp)\n",
    "\n",
    "    return x / w, y / w"
   ]
  },
  {
   "cell_type": "code",
   "execution_count": 11,
   "metadata": {},
   "outputs": [],
   "source": [
    "def calculate_moments_of_inertia(img_inp, x_mean, y_mean):\n",
    "    img = np.where(img_inp == 0, 1, 0)\n",
    "    x, y = 0, 0\n",
    "    for i in range(img_inp.shape[0]):\n",
    "        for j in range(img_inp.shape[1]):\n",
    "            x += np.power((j - y_mean), 2) * img[i, j]\n",
    "            y += np.power((i - x_mean), 2) * img[i, j]\n",
    "    \n",
    "    return x, y"
   ]
  },
  {
   "cell_type": "code",
   "execution_count": 12,
   "metadata": {},
   "outputs": [],
   "source": [
    "def save_projections(img, symbol):\n",
    "    img_pr = np.where(img < 128, 1, 0)\n",
    "    plt.figure(figsize=(15, 20))\n",
    "\n",
    "    plt.subplot(2, 2, 4)\n",
    "    plt.plot(range(img.shape[1]), img_pr.sum(axis=0), color='black')\n",
    "    plt.title('Vertical Projection')\n",
    "    plt.xlabel('Y')\n",
    "    plt.ylabel('Weight')\n",
    "    plt.ylim(0, img.shape[0])\n",
    "    plt.xlim(0, img.shape[1])\n",
    "\n",
    "    plt.subplot(2, 2, 2)\n",
    "    plt.imshow(img, cmap='gray', aspect='auto')\n",
    "    plt.title(f'Symbol')\n",
    "    plt.axis('off')\n",
    "\n",
    "    plt.subplot(2, 2, 1)\n",
    "    plt.plot(img_pr.sum(axis=1), range(img.shape[0]-1, -1, -1), color='black')\n",
    "    plt.title('Horizontal Projection')\n",
    "    plt.xlabel('Weight')\n",
    "    plt.ylabel('X')\n",
    "    plt.ylim(0, img.shape[0])\n",
    "    plt.xlim(0, img.shape[1])\n",
    "\n",
    "    plt.tight_layout()\n",
    "    plt.savefig(f'output/{symbol}_projections.png')\n",
    "\n",
    "    plt.close()"
   ]
  },
  {
   "cell_type": "code",
   "execution_count": 13,
   "metadata": {},
   "outputs": [],
   "source": [
    "stats = pd.DataFrame()\n",
    "\n",
    "for i in range(len(alphabet)):\n",
    "    img = np.array(open_image(alphabet[i]+'_preprocessed.png'))\n",
    "    img = np.where(img < 128, 0, 255)\n",
    "\n",
    "    M, N = img.shape[0], img.shape[1]\n",
    "\n",
    "    statistics = {}\n",
    "    x_q, y_q = M // 2, N // 2\n",
    "\n",
    "    statistics['Symbol'] = alphabet[i]\n",
    "    \n",
    "    w = calculate_weight(img[:x_q, :y_q])\n",
    "    statistics['Weight Quarter_1'] = w\n",
    "    statistics['Weight Density Quarter_1'] = w / (x_q * y_q)\n",
    "\n",
    "    w = calculate_weight(img[:x_q, y_q:])\n",
    "    statistics['Weight Quarter_2'] = w\n",
    "    statistics['Weight Density Quarter_2'] = w / (x_q * (N - y_q))\n",
    "\n",
    "    w = calculate_weight(img[x_q:, :y_q])\n",
    "    statistics['Weight Quarter_3'] = w\n",
    "    statistics['Weight Density Quarter_3'] = w / ((M - x_q) * y_q)\n",
    "\n",
    "    w = calculate_weight(img[x_q:, y_q:])\n",
    "    statistics['Weight Quarter_4'] = w\n",
    "    statistics['Weight Density Quarter_4'] = w / ((M - x_q) * (N - y_q))\n",
    "\n",
    "    statistics['Center of Gravity coordinate_x'], statistics['Center of Gravity coordinate_y'] = \\\n",
    "        calculate_center_of_gravity(img)\n",
    "    \n",
    "    statistics['Relative Center of Gravity coordinate_x'], statistics['Relative Center of Gravity coordinate_y'] = \\\n",
    "        (statistics['Center of Gravity coordinate_x'] - 1) / (M - 1), (statistics['Center of Gravity coordinate_y'] - 1) / (N - 1)\n",
    "    \n",
    "    statistics['Axial Moment of Inertia_x'], statistics['Axial Moment of Inertia_y'] = \\\n",
    "        calculate_moments_of_inertia(img, statistics['Center of Gravity coordinate_x'], statistics['Center of Gravity coordinate_y'])\n",
    "    \n",
    "    statistics['Relative Axial Moment of Inertia_x'], statistics['Relative Axial Moment of Inertia_y'] = \\\n",
    "        statistics['Center of Gravity coordinate_x'] / (np.power(M, 2) * np.power(N, 2)), statistics['Center of Gravity coordinate_y'] / (np.power(M, 2) * np.power(N, 2))\n",
    "\n",
    "    save_projections(img, alphabet[i])\n",
    "\n",
    "    stats = pd.concat((stats, pd.DataFrame([statistics])), ignore_index=True)"
   ]
  },
  {
   "cell_type": "code",
   "execution_count": 14,
   "metadata": {},
   "outputs": [],
   "source": [
    "stats.to_csv('output/statistics.csv', sep=',', index=False)"
   ]
  },
  {
   "cell_type": "code",
   "execution_count": null,
   "metadata": {},
   "outputs": [],
   "source": []
  }
 ],
 "metadata": {
  "kernelspec": {
   "display_name": "oavi_venv",
   "language": "python",
   "name": "python3"
  },
  "language_info": {
   "codemirror_mode": {
    "name": "ipython",
    "version": 3
   },
   "file_extension": ".py",
   "mimetype": "text/x-python",
   "name": "python",
   "nbconvert_exporter": "python",
   "pygments_lexer": "ipython3",
   "version": "3.9.6"
  }
 },
 "nbformat": 4,
 "nbformat_minor": 2
}
